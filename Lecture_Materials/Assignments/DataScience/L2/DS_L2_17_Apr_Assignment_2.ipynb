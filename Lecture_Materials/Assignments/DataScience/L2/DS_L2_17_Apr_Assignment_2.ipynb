{
 "cells": [
  {
   "cell_type": "markdown",
   "metadata": {
    "colab_type": "text",
    "id": "1X6ddOR8HFsX"
   },
   "source": [
    "\n",
    "# **Assignment - 2: Basic Data Understanding**\n",
    "\n",
    "---\n",
    "\n",
    "This assignment will get you familiarized with Python libraries and  functions required for data visualization."
   ]
  },
  {
   "cell_type": "markdown",
   "metadata": {
    "colab_type": "text",
    "id": "XRd4EfXN5fQb"
   },
   "source": [
    "---\n",
    "## Part 1 - Loading data \n",
    "---"
   ]
  },
  {
   "cell_type": "markdown",
   "metadata": {
    "colab_type": "text",
    "id": "Q7W6I-fVIoqp"
   },
   "source": [
    "###Import the following libraries:  \n",
    "\n",
    "* ```numpy``` with an alias name ```np```, \n",
    "* ```pandas``` with an alias name ```pd```, \n",
    "* ```matplotlib.pyplot``` with an alias name ```plt```, and \n",
    "* ```seaborn``` with an alias name ```sns```. "
   ]
  },
  {
   "cell_type": "code",
   "execution_count": 1,
   "metadata": {
    "colab": {},
    "colab_type": "code",
    "id": "NihF3MwIGI4m"
   },
   "outputs": [],
   "source": [
    "# Load the four libraries with their aliases \n",
    "import numpy as np\n",
    "import pandas as pd\n",
    "import matplotlib.pyplot as plt\n",
    "import seaborn as sns"
   ]
  },
  {
   "cell_type": "markdown",
   "metadata": {
    "colab_type": "text",
    "id": "dsLj-TSQJgMb"
   },
   "source": [
    "### Using the files ```train.csv``` and ```moviesData.csv```,  peform the following:\n",
    "\n",
    "* Load these file as ```pandas``` dataframes and store it in variables named ```df``` and ```movies``` respectively. \n",
    "* Print the first ten rows of ```df```. \n",
    "\n"
   ]
  },
  {
   "cell_type": "code",
   "execution_count": 13,
   "metadata": {
    "colab": {},
    "colab_type": "code",
    "id": "3AjvT40AGIq6"
   },
   "outputs": [],
   "source": [
    "# Load the file as a dataframe \n",
    "df = pd.read_csv('train.csv')\n",
    "movies = pd.read_csv('moviesData.csv')"
   ]
  },
  {
   "cell_type": "code",
   "execution_count": 14,
   "metadata": {
    "colab": {},
    "colab_type": "code",
    "id": "7eCo7WlMGMkn"
   },
   "outputs": [
    {
     "data": {
      "text/html": [
       "<div>\n",
       "<style scoped>\n",
       "    .dataframe tbody tr th:only-of-type {\n",
       "        vertical-align: middle;\n",
       "    }\n",
       "\n",
       "    .dataframe tbody tr th {\n",
       "        vertical-align: top;\n",
       "    }\n",
       "\n",
       "    .dataframe thead th {\n",
       "        text-align: right;\n",
       "    }\n",
       "</style>\n",
       "<table border=\"1\" class=\"dataframe\">\n",
       "  <thead>\n",
       "    <tr style=\"text-align: right;\">\n",
       "      <th></th>\n",
       "      <th>Age</th>\n",
       "      <th>Attrition</th>\n",
       "      <th>BusinessTravel</th>\n",
       "      <th>DailyRate</th>\n",
       "      <th>Department</th>\n",
       "      <th>DistanceFromHome</th>\n",
       "      <th>Education</th>\n",
       "      <th>EducationField</th>\n",
       "      <th>EmployeeCount</th>\n",
       "      <th>EmployeeNumber</th>\n",
       "      <th>...</th>\n",
       "      <th>RelationshipSatisfaction</th>\n",
       "      <th>StockOptionLevel</th>\n",
       "      <th>TotalWorkingYears</th>\n",
       "      <th>TrainingTimesLastYear</th>\n",
       "      <th>WorkLifeBalance</th>\n",
       "      <th>YearsAtCompany</th>\n",
       "      <th>YearsInCurrentRole</th>\n",
       "      <th>YearsSinceLastPromotion</th>\n",
       "      <th>YearsWithCurrManager</th>\n",
       "      <th>ID</th>\n",
       "    </tr>\n",
       "  </thead>\n",
       "  <tbody>\n",
       "    <tr>\n",
       "      <th>0</th>\n",
       "      <td>41</td>\n",
       "      <td>1</td>\n",
       "      <td>Travel_Rarely</td>\n",
       "      <td>1102</td>\n",
       "      <td>Sales</td>\n",
       "      <td>1</td>\n",
       "      <td>2</td>\n",
       "      <td>Life Sciences</td>\n",
       "      <td>1</td>\n",
       "      <td>1</td>\n",
       "      <td>...</td>\n",
       "      <td>1</td>\n",
       "      <td>0</td>\n",
       "      <td>8</td>\n",
       "      <td>0</td>\n",
       "      <td>1</td>\n",
       "      <td>6</td>\n",
       "      <td>4</td>\n",
       "      <td>0</td>\n",
       "      <td>5</td>\n",
       "      <td>0</td>\n",
       "    </tr>\n",
       "    <tr>\n",
       "      <th>1</th>\n",
       "      <td>49</td>\n",
       "      <td>0</td>\n",
       "      <td>Travel_Frequently</td>\n",
       "      <td>279</td>\n",
       "      <td>Research &amp; Development</td>\n",
       "      <td>8</td>\n",
       "      <td>1</td>\n",
       "      <td>Life Sciences</td>\n",
       "      <td>1</td>\n",
       "      <td>2</td>\n",
       "      <td>...</td>\n",
       "      <td>4</td>\n",
       "      <td>1</td>\n",
       "      <td>10</td>\n",
       "      <td>3</td>\n",
       "      <td>3</td>\n",
       "      <td>10</td>\n",
       "      <td>7</td>\n",
       "      <td>1</td>\n",
       "      <td>7</td>\n",
       "      <td>1</td>\n",
       "    </tr>\n",
       "    <tr>\n",
       "      <th>2</th>\n",
       "      <td>37</td>\n",
       "      <td>1</td>\n",
       "      <td>Travel_Rarely</td>\n",
       "      <td>1373</td>\n",
       "      <td>Research &amp; Development</td>\n",
       "      <td>2</td>\n",
       "      <td>2</td>\n",
       "      <td>Other</td>\n",
       "      <td>1</td>\n",
       "      <td>4</td>\n",
       "      <td>...</td>\n",
       "      <td>2</td>\n",
       "      <td>0</td>\n",
       "      <td>7</td>\n",
       "      <td>3</td>\n",
       "      <td>3</td>\n",
       "      <td>0</td>\n",
       "      <td>0</td>\n",
       "      <td>0</td>\n",
       "      <td>0</td>\n",
       "      <td>2</td>\n",
       "    </tr>\n",
       "    <tr>\n",
       "      <th>3</th>\n",
       "      <td>33</td>\n",
       "      <td>0</td>\n",
       "      <td>Travel_Frequently</td>\n",
       "      <td>1392</td>\n",
       "      <td>Research &amp; Development</td>\n",
       "      <td>3</td>\n",
       "      <td>4</td>\n",
       "      <td>Life Sciences</td>\n",
       "      <td>1</td>\n",
       "      <td>5</td>\n",
       "      <td>...</td>\n",
       "      <td>3</td>\n",
       "      <td>0</td>\n",
       "      <td>8</td>\n",
       "      <td>3</td>\n",
       "      <td>3</td>\n",
       "      <td>8</td>\n",
       "      <td>7</td>\n",
       "      <td>3</td>\n",
       "      <td>0</td>\n",
       "      <td>3</td>\n",
       "    </tr>\n",
       "    <tr>\n",
       "      <th>4</th>\n",
       "      <td>27</td>\n",
       "      <td>0</td>\n",
       "      <td>Travel_Rarely</td>\n",
       "      <td>591</td>\n",
       "      <td>Research &amp; Development</td>\n",
       "      <td>2</td>\n",
       "      <td>1</td>\n",
       "      <td>Medical</td>\n",
       "      <td>1</td>\n",
       "      <td>7</td>\n",
       "      <td>...</td>\n",
       "      <td>4</td>\n",
       "      <td>1</td>\n",
       "      <td>6</td>\n",
       "      <td>3</td>\n",
       "      <td>3</td>\n",
       "      <td>2</td>\n",
       "      <td>2</td>\n",
       "      <td>2</td>\n",
       "      <td>2</td>\n",
       "      <td>4</td>\n",
       "    </tr>\n",
       "    <tr>\n",
       "      <th>5</th>\n",
       "      <td>32</td>\n",
       "      <td>0</td>\n",
       "      <td>Travel_Frequently</td>\n",
       "      <td>1005</td>\n",
       "      <td>Research &amp; Development</td>\n",
       "      <td>2</td>\n",
       "      <td>2</td>\n",
       "      <td>Life Sciences</td>\n",
       "      <td>1</td>\n",
       "      <td>8</td>\n",
       "      <td>...</td>\n",
       "      <td>3</td>\n",
       "      <td>0</td>\n",
       "      <td>8</td>\n",
       "      <td>2</td>\n",
       "      <td>2</td>\n",
       "      <td>7</td>\n",
       "      <td>7</td>\n",
       "      <td>3</td>\n",
       "      <td>6</td>\n",
       "      <td>5</td>\n",
       "    </tr>\n",
       "    <tr>\n",
       "      <th>6</th>\n",
       "      <td>59</td>\n",
       "      <td>0</td>\n",
       "      <td>Travel_Rarely</td>\n",
       "      <td>1324</td>\n",
       "      <td>Research &amp; Development</td>\n",
       "      <td>3</td>\n",
       "      <td>3</td>\n",
       "      <td>Medical</td>\n",
       "      <td>1</td>\n",
       "      <td>10</td>\n",
       "      <td>...</td>\n",
       "      <td>1</td>\n",
       "      <td>3</td>\n",
       "      <td>12</td>\n",
       "      <td>3</td>\n",
       "      <td>2</td>\n",
       "      <td>1</td>\n",
       "      <td>0</td>\n",
       "      <td>0</td>\n",
       "      <td>0</td>\n",
       "      <td>6</td>\n",
       "    </tr>\n",
       "    <tr>\n",
       "      <th>7</th>\n",
       "      <td>30</td>\n",
       "      <td>0</td>\n",
       "      <td>Travel_Rarely</td>\n",
       "      <td>1358</td>\n",
       "      <td>Research &amp; Development</td>\n",
       "      <td>24</td>\n",
       "      <td>1</td>\n",
       "      <td>Life Sciences</td>\n",
       "      <td>1</td>\n",
       "      <td>11</td>\n",
       "      <td>...</td>\n",
       "      <td>2</td>\n",
       "      <td>1</td>\n",
       "      <td>1</td>\n",
       "      <td>2</td>\n",
       "      <td>3</td>\n",
       "      <td>1</td>\n",
       "      <td>0</td>\n",
       "      <td>0</td>\n",
       "      <td>0</td>\n",
       "      <td>7</td>\n",
       "    </tr>\n",
       "    <tr>\n",
       "      <th>8</th>\n",
       "      <td>38</td>\n",
       "      <td>0</td>\n",
       "      <td>Travel_Frequently</td>\n",
       "      <td>216</td>\n",
       "      <td>Research &amp; Development</td>\n",
       "      <td>23</td>\n",
       "      <td>3</td>\n",
       "      <td>Life Sciences</td>\n",
       "      <td>1</td>\n",
       "      <td>12</td>\n",
       "      <td>...</td>\n",
       "      <td>2</td>\n",
       "      <td>0</td>\n",
       "      <td>10</td>\n",
       "      <td>2</td>\n",
       "      <td>3</td>\n",
       "      <td>9</td>\n",
       "      <td>7</td>\n",
       "      <td>1</td>\n",
       "      <td>8</td>\n",
       "      <td>8</td>\n",
       "    </tr>\n",
       "    <tr>\n",
       "      <th>9</th>\n",
       "      <td>36</td>\n",
       "      <td>0</td>\n",
       "      <td>Travel_Rarely</td>\n",
       "      <td>1299</td>\n",
       "      <td>Research &amp; Development</td>\n",
       "      <td>27</td>\n",
       "      <td>3</td>\n",
       "      <td>Medical</td>\n",
       "      <td>1</td>\n",
       "      <td>13</td>\n",
       "      <td>...</td>\n",
       "      <td>2</td>\n",
       "      <td>2</td>\n",
       "      <td>17</td>\n",
       "      <td>3</td>\n",
       "      <td>2</td>\n",
       "      <td>7</td>\n",
       "      <td>7</td>\n",
       "      <td>7</td>\n",
       "      <td>7</td>\n",
       "      <td>9</td>\n",
       "    </tr>\n",
       "  </tbody>\n",
       "</table>\n",
       "<p>10 rows × 34 columns</p>\n",
       "</div>"
      ],
      "text/plain": [
       "   Age  Attrition     BusinessTravel  DailyRate              Department  \\\n",
       "0   41          1      Travel_Rarely       1102                   Sales   \n",
       "1   49          0  Travel_Frequently        279  Research & Development   \n",
       "2   37          1      Travel_Rarely       1373  Research & Development   \n",
       "3   33          0  Travel_Frequently       1392  Research & Development   \n",
       "4   27          0      Travel_Rarely        591  Research & Development   \n",
       "5   32          0  Travel_Frequently       1005  Research & Development   \n",
       "6   59          0      Travel_Rarely       1324  Research & Development   \n",
       "7   30          0      Travel_Rarely       1358  Research & Development   \n",
       "8   38          0  Travel_Frequently        216  Research & Development   \n",
       "9   36          0      Travel_Rarely       1299  Research & Development   \n",
       "\n",
       "   DistanceFromHome  Education EducationField  EmployeeCount  EmployeeNumber  \\\n",
       "0                 1          2  Life Sciences              1               1   \n",
       "1                 8          1  Life Sciences              1               2   \n",
       "2                 2          2          Other              1               4   \n",
       "3                 3          4  Life Sciences              1               5   \n",
       "4                 2          1        Medical              1               7   \n",
       "5                 2          2  Life Sciences              1               8   \n",
       "6                 3          3        Medical              1              10   \n",
       "7                24          1  Life Sciences              1              11   \n",
       "8                23          3  Life Sciences              1              12   \n",
       "9                27          3        Medical              1              13   \n",
       "\n",
       "   ...  RelationshipSatisfaction StockOptionLevel  TotalWorkingYears  \\\n",
       "0  ...                         1                0                  8   \n",
       "1  ...                         4                1                 10   \n",
       "2  ...                         2                0                  7   \n",
       "3  ...                         3                0                  8   \n",
       "4  ...                         4                1                  6   \n",
       "5  ...                         3                0                  8   \n",
       "6  ...                         1                3                 12   \n",
       "7  ...                         2                1                  1   \n",
       "8  ...                         2                0                 10   \n",
       "9  ...                         2                2                 17   \n",
       "\n",
       "   TrainingTimesLastYear  WorkLifeBalance YearsAtCompany  YearsInCurrentRole  \\\n",
       "0                      0                1              6                   4   \n",
       "1                      3                3             10                   7   \n",
       "2                      3                3              0                   0   \n",
       "3                      3                3              8                   7   \n",
       "4                      3                3              2                   2   \n",
       "5                      2                2              7                   7   \n",
       "6                      3                2              1                   0   \n",
       "7                      2                3              1                   0   \n",
       "8                      2                3              9                   7   \n",
       "9                      3                2              7                   7   \n",
       "\n",
       "  YearsSinceLastPromotion  YearsWithCurrManager  ID  \n",
       "0                       0                     5   0  \n",
       "1                       1                     7   1  \n",
       "2                       0                     0   2  \n",
       "3                       3                     0   3  \n",
       "4                       2                     2   4  \n",
       "5                       3                     6   5  \n",
       "6                       0                     0   6  \n",
       "7                       0                     0   7  \n",
       "8                       1                     8   8  \n",
       "9                       7                     7   9  \n",
       "\n",
       "[10 rows x 34 columns]"
      ]
     },
     "execution_count": 14,
     "metadata": {},
     "output_type": "execute_result"
    }
   ],
   "source": [
    "# Print the first ten rows of df\n",
    "df[:10]"
   ]
  },
  {
   "cell_type": "markdown",
   "metadata": {
    "colab_type": "text",
    "id": "PSm-U7LEF5u_"
   },
   "source": [
    "### Using the dataframe ```df```, perform the following: \n",
    "\n",
    "* Print the first five rows of the column ```MonthlyRate```. \n",
    "* Find out the details of the column ```MonthlyRate``` like mean, maximum value, minimum value, etc. "
   ]
  },
  {
   "cell_type": "code",
   "execution_count": 15,
   "metadata": {
    "colab": {},
    "colab_type": "code",
    "id": "QS5LttI-GT2f"
   },
   "outputs": [
    {
     "data": {
      "text/plain": [
       "0    19479\n",
       "1    24907\n",
       "2     2396\n",
       "3    23159\n",
       "4    16632\n",
       "Name: MonthlyRate, dtype: int64"
      ]
     },
     "execution_count": 15,
     "metadata": {},
     "output_type": "execute_result"
    }
   ],
   "source": [
    "# Print the first five rows of MonthlyRate\n",
    "df.MonthlyRate.head()"
   ]
  },
  {
   "cell_type": "code",
   "execution_count": 16,
   "metadata": {
    "colab": {},
    "colab_type": "code",
    "id": "EzQ1a1M0GURm"
   },
   "outputs": [
    {
     "data": {
      "text/plain": [
       "count     1028.000000\n",
       "mean     14243.531128\n",
       "std       7048.768076\n",
       "min       2094.000000\n",
       "25%       8259.750000\n",
       "50%      14074.500000\n",
       "75%      20342.250000\n",
       "max      26999.000000\n",
       "Name: MonthlyRate, dtype: float64"
      ]
     },
     "execution_count": 16,
     "metadata": {},
     "output_type": "execute_result"
    }
   ],
   "source": [
    "# Find the details of MonthlyRate \n",
    "df.MonthlyRate.describe()"
   ]
  },
  {
   "cell_type": "markdown",
   "metadata": {
    "colab_type": "text",
    "id": "3h-YOTvPQI48"
   },
   "source": [
    "---\n",
    "## Part 2 - Cleaning and manipulating data \n",
    "---"
   ]
  },
  {
   "cell_type": "markdown",
   "metadata": {
    "colab_type": "text",
    "id": "EtLzBibsQfXu"
   },
   "source": [
    "### Using the dataframe ```df```, peform the following:\n",
    "\n",
    "* Check whether there are any missing values in ```df```. \n",
    "* If yes, drop those values and print the size of ```df``` after dropping these. "
   ]
  },
  {
   "cell_type": "code",
   "execution_count": 18,
   "metadata": {
    "colab": {},
    "colab_type": "code",
    "id": "XG-UK53fRDRZ"
   },
   "outputs": [
    {
     "data": {
      "text/plain": [
       "(1028, 34)"
      ]
     },
     "execution_count": 18,
     "metadata": {},
     "output_type": "execute_result"
    }
   ],
   "source": [
    "# Check for missing values \n",
    "df.isna().sum()\n",
    "\n",
    "# Drop the missing values \n",
    "df.dropna()\n",
    "\n",
    "# Print the size of df after dropping \n",
    "df.shape\n"
   ]
  },
  {
   "cell_type": "markdown",
   "metadata": {
    "colab_type": "text",
    "id": "qtoGcl2XRWnS"
   },
   "source": [
    "### Using the dataframe ```df```, peform the following:\n",
    "\n",
    "* Add another column named ```MonthRateNew``` in ```df``` by subtracting the mean from ```MonthlyRate``` and dividing it by standard deviation. "
   ]
  },
  {
   "cell_type": "code",
   "execution_count": 146,
   "metadata": {
    "colab": {},
    "colab_type": "code",
    "id": "zDMncSUKR12P"
   },
   "outputs": [],
   "source": [
    "# Add a column named MonthRateNew \n",
    "df['MonthRateNew'] = (df.MonthlyRate - df.MonthlyRate.mean()) / df.MonthlyRate.std()"
   ]
  },
  {
   "cell_type": "markdown",
   "metadata": {
    "colab_type": "text",
    "id": "pcbN7jep13og"
   },
   "source": [
    "### Using the dataframe ```movies```, perform the following: \n",
    "\n",
    "* Check whether there are any missing values in ```movies```. \n",
    "* Find out the number of observations/rows having any of their features/columns missing. \n",
    "* Drop the missing values and print the size of ```movies``` after dropping these. \n",
    "* Instead of dropping the missing values, replace the missing values by their mean (or some suitable value). \n"
   ]
  },
  {
   "cell_type": "code",
   "execution_count": 33,
   "metadata": {
    "colab": {},
    "colab_type": "code",
    "id": "DNszBx8A14ai",
    "scrolled": true
   },
   "outputs": [
    {
     "name": "stdout",
     "output_type": "stream",
     "text": [
      "73 observations missing across entire dataset.\n",
      "Unnamed: 0           0\n",
      "title                0\n",
      "title_type           0\n",
      "genre                0\n",
      "runtime              1\n",
      "mpaa_rating          0\n",
      "studio               5\n",
      "thtr_rel_year        0\n",
      "thtr_rel_month       0\n",
      "thtr_rel_day         0\n",
      "dvd_rel_year         7\n",
      "dvd_rel_month        7\n",
      "dvd_rel_day          7\n",
      "imdb_rating          0\n",
      "imdb_num_votes       0\n",
      "critics_rating       0\n",
      "critics_score        0\n",
      "audience_rating      0\n",
      "audience_score       0\n",
      "best_pic_nom         0\n",
      "best_pic_win         0\n",
      "best_actor_win       0\n",
      "best_actress_win     0\n",
      "best_dir_win         0\n",
      "top200_box           0\n",
      "director             2\n",
      "actor1               2\n",
      "actor2               7\n",
      "actor3               9\n",
      "actor4              12\n",
      "actor5              14\n",
      "dtype: int64\n",
      "Shape before dropping missing values: (600, 31)\n",
      "Shape after dropping missing values: (572, 31)\n"
     ]
    }
   ],
   "source": [
    "# Check for missing values \n",
    "print('{} observations missing across entire dataset.'.format(movies.isna().sum().sum()))\n",
    "print(movies.isna().sum())\n",
    "\n",
    "# Drop the missing values \n",
    "print('Shape before dropping missing values: {}'.format(movies.shape))\n",
    "movies = movies.dropna()\n",
    "print('Shape after dropping missing values: {}'.format(movies.shape))"
   ]
  },
  {
   "cell_type": "code",
   "execution_count": 61,
   "metadata": {},
   "outputs": [
    {
     "name": "stdout",
     "output_type": "stream",
     "text": [
      "73 observations missing across entire dataset before impution\n",
      "0 observations missing across entire dataset after impution\n"
     ]
    }
   ],
   "source": [
    "# Replace the missing values \n",
    "# You can use SimpleImputer of sklearn for this\n",
    "\n",
    "# Import library\n",
    "from sklearn.impute import SimpleImputer\n",
    "\n",
    "# Reimport data\n",
    "movies = pd.read_csv('moviesData.csv')\n",
    "\n",
    "# Confirm nulls present\n",
    "print('{} observations missing across entire dataset before impution'.format(movies.isna().sum().sum()))\n",
    "\n",
    "# Iterate through columns by type & impute if nulls found\n",
    "\n",
    "float_cols = []\n",
    "int_cols = []\n",
    "obj_cols = []\n",
    "\n",
    "for col in movies.columns:\n",
    "    if movies[col].dtype == 'float64':            \n",
    "        float_cols.append(col)\n",
    "    elif movies[col].dtype == 'int64':\n",
    "        int_cols.append(col)\n",
    "    else:\n",
    "        obj_cols.append(col)\n",
    "        \n",
    "# Impute floats with mean\n",
    "imp_mean = SimpleImputer(strategy='mean')\n",
    "imp_mean = imp_mean.fit(movies[float_cols])\n",
    "movies[float_cols] = imp_mean.transform(movies[float_cols])\n",
    "\n",
    "# Impute ints with median\n",
    "imp_mean = SimpleImputer(strategy='median')\n",
    "imp_mean = imp_mean.fit(movies[int_cols])\n",
    "movies[int_cols] = imp_mean.transform(movies[int_cols])\n",
    "\n",
    "# Impute objs with most common value\n",
    "imp_mean = SimpleImputer(strategy='most_frequent')\n",
    "imp_mean = imp_mean.fit(movies[obj_cols])\n",
    "movies[obj_cols] = imp_mean.transform(movies[obj_cols])\n",
    "\n",
    "# Confirm no nulls present\n",
    "print('{} observations missing across entire dataset after impution'.format(movies.isna().sum().sum()))"
   ]
  },
  {
   "cell_type": "markdown",
   "metadata": {
    "colab_type": "text",
    "id": "qDr11sjlBk_W"
   },
   "source": [
    "---\n",
    "## Part 3 - Visualizing data \n",
    "---"
   ]
  },
  {
   "cell_type": "markdown",
   "metadata": {
    "colab_type": "text",
    "id": "wC_w1zNCBw2G"
   },
   "source": [
    "### Visualize the ```df``` by drawing the following plots:\n",
    "\n",
    "* Plot a histogram of ```Age``` and find the range in which most people are there. \n",
    "* Modify the histogram of ```Age``` by adding 30 bins. \n",
    "* Draw a scatter plot between ```Age``` and ```Attrition``` and suitable labels to the axes. Find out whether people more than 50 years are more likely to leave the company. (```Attrition``` = 1 means people have left the company). "
   ]
  },
  {
   "cell_type": "code",
   "execution_count": 78,
   "metadata": {
    "colab": {},
    "colab_type": "code",
    "id": "645EwAsoH63i"
   },
   "outputs": [
    {
     "data": {
      "image/png": "[encoded data removed]",
      "text/plain": [
       "<Figure size 432x288 with 1 Axes>"
      ]
     },
     "metadata": {
      "needs_background": "light"
     },
     "output_type": "display_data"
    },
    {
     "name": "stdout",
     "output_type": "stream",
     "text": [
      "Those aged 50 or older are more likely to leave: False\n"
     ]
    }
   ],
   "source": [
    "# Plot and modify the histogram of Age\n",
    "plt.hist(df.Age, bins=30)"
   ]
  },
  {
   "cell_type": "code",
   "execution_count": 82,
   "metadata": {},
   "outputs": [
    {
     "data": {
      "image/png": "[encoded data removed]",
      "text/plain": [
       "<Figure size 432x288 with 1 Axes>"
      ]
     },
     "metadata": {
      "needs_background": "light"
     },
     "output_type": "display_data"
    },
    {
     "name": "stdout",
     "output_type": "stream",
     "text": [
      "Those aged 50 or older are not more likely to leave.\n"
     ]
    }
   ],
   "source": [
    "# Draw a scatter plot between Age and Attrition\n",
    "plt.scatter(df.Age, df.Attrition)\n",
    "plt.title('Age vs. Attrition')\n",
    "plt.xlabel('Age')\n",
    "plt.ylabel('Attrition')\n",
    "\n",
    "plt.show()\n",
    "\n",
    "# What proportion under 50s leave?\n",
    "u50_attrition = df.Attrition.loc[df.Age < 50].sum() / df.Attrition.loc[df.Age < 50].count()\n",
    "\n",
    "# What proportion over 50s leave?\n",
    "o50_attrition = df.Attrition.loc[df.Age >= 50].sum() / df.Attrition.loc[df.Age >= 50].count()\n",
    "\n",
    "# Are those over 50 more likely to leave?\n",
    "if o50_attrition > u50_attrition is True:\n",
    "    verdict = 'are'\n",
    "else:\n",
    "    verdict = 'are not'\n",
    "\n",
    "print('Those aged 50 or older {} more likely to leave.'.format(verdict))"
   ]
  },
  {
   "cell_type": "markdown",
   "metadata": {
    "colab_type": "text",
    "id": "eez_pkZ-HDKP"
   },
   "source": [
    "### Visualize the ```df``` by following the steps given below:\n",
    "\n",
    "* Get a series containing counts of unique values of ```Attrition```.\n",
    "* Draw a countplot for ```Attrition``` using ```sns.countplot()```. "
   ]
  },
  {
   "cell_type": "code",
   "execution_count": 148,
   "metadata": {
    "colab": {},
    "colab_type": "code",
    "id": "Tp8LnxLWIPfk"
   },
   "outputs": [
    {
     "name": "stdout",
     "output_type": "stream",
     "text": [
      "0    856\n",
      "1    172\n",
      "Name: Attrition, dtype: int64\n"
     ]
    },
    {
     "data": {
      "text/plain": [
       "<AxesSubplot:xlabel='Attrition', ylabel='count'>"
      ]
     },
     "execution_count": 148,
     "metadata": {},
     "output_type": "execute_result"
    },
    {
     "data": {
      "image/png": "[encoded data removed]",
      "text/plain": [
       "<Figure size 432x288 with 1 Axes>"
      ]
     },
     "metadata": {
      "needs_background": "light"
     },
     "output_type": "display_data"
    }
   ],
   "source": [
    "# Get a series of counts of values of Attrition\n",
    "print(df.Attrition.value_counts())\n",
    "\n",
    "# Draw a countplot for Attrition \n",
    "# You may use countplot of seaborn for this \n",
    "sns.countplot(data=df, x=\"Attrition\")\n"
   ]
  },
  {
   "cell_type": "markdown",
   "metadata": {
    "colab_type": "text",
    "id": "Vi01m9MBHaJD"
   },
   "source": [
    "### Visualize the ```df``` by following the steps given below:\n",
    "\n",
    "* Draw a cross tabulation of ```Attrition``` and ```BusinessTravel``` as bar charts. Find which value of ```BusinessTravel``` has highest number of people."
   ]
  },
  {
   "cell_type": "code",
   "execution_count": 154,
   "metadata": {
    "colab": {},
    "colab_type": "code",
    "id": "5OHAeOqeIQVM"
   },
   "outputs": [],
   "source": [
    "# Draw a cross tab of Attritiona and BusinessTravel \n",
    "# You may use crosstab of pandas for this \n",
    "att_bus_crosstab = pd.crosstab(df.BusinessTravel, df.Attrition)"
   ]
  },
  {
   "cell_type": "markdown",
   "metadata": {
    "colab_type": "text",
    "id": "1FCc9ZkUHfqL"
   },
   "source": [
    "### Visualize the ```df``` by drawing the following plot:\n",
    "\n",
    "* Draw a stacked bar chart between ```Attrition``` and ```Gender``` columns. "
   ]
  },
  {
   "cell_type": "code",
   "execution_count": 156,
   "metadata": {
    "colab": {},
    "colab_type": "code",
    "id": "58ELSAXBIQST"
   },
   "outputs": [
    {
     "data": {
      "image/png": "[encoded data removed]",
      "text/plain": [
       "<Figure size 432x288 with 1 Axes>"
      ]
     },
     "metadata": {
      "needs_background": "light"
     },
     "output_type": "display_data"
    }
   ],
   "source": [
    "# Draw a stacked bar chart between Attrition and Gender \n",
    "att_gen_crosstab = pd.crosstab(df.Attrition, df.Gender)\n",
    "att_gen_crosstab.T.plot.bar(stacked=True)\n",
    "plt.ylabel('Count')\n",
    "plt.show()"
   ]
  },
  {
   "cell_type": "code",
   "execution_count": 164,
   "metadata": {},
   "outputs": [
    {
     "data": {
      "image/png": "[encoded data removed]",
      "text/plain": [
       "<Figure size 432x288 with 1 Axes>"
      ]
     },
     "metadata": {
      "needs_background": "light"
     },
     "output_type": "display_data"
    }
   ],
   "source": [
    "prop_att_gen = att_gen_crosstab / att_gen_crosstab.sum() * 100\n",
    "prop_att_gen.T.plot.bar(stacked=True)\n",
    "plt.ylabel('Count')\n",
    "plt.show()"
   ]
  },
  {
   "cell_type": "markdown",
   "metadata": {
    "colab_type": "text",
    "id": "vZzsi8_QLEdq"
   },
   "source": [
    "### Visualize the ```df``` by drawing the following histogram:\n",
    "\n",
    "* Draw a histogram of ```TotalWorkingYears``` with 30 bins. \n",
    "* Draw a histogram of ```YearsAtCompany``` with 30 bins and find whether the values in ```YearsAtCompany``` are skewed. "
   ]
  },
  {
   "cell_type": "code",
   "execution_count": 111,
   "metadata": {
    "colab": {},
    "colab_type": "code",
    "id": "zvSlfj3FLUvV",
    "scrolled": true
   },
   "outputs": [
    {
     "data": {
      "image/png": "[encoded data removed]",
      "text/plain": [
       "<Figure size 432x288 with 1 Axes>"
      ]
     },
     "metadata": {
      "needs_background": "light"
     },
     "output_type": "display_data"
    }
   ],
   "source": [
    "# Draw a histogram of TotalWorkingYears with 30 bins\n",
    "plt.hist(df.TotalWorkingYears, bins=30)\n",
    "plt.title('Total years working')\n",
    "plt.xlabel('Years')\n",
    "plt.ylabel('Count')\n",
    "plt.show()"
   ]
  },
  {
   "cell_type": "code",
   "execution_count": 112,
   "metadata": {},
   "outputs": [
    {
     "data": {
      "image/png": "[encoded data removed]",
      "text/plain": [
       "<Figure size 432x288 with 1 Axes>"
      ]
     },
     "metadata": {
      "needs_background": "light"
     },
     "output_type": "display_data"
    }
   ],
   "source": [
    "# Draw a histogram of YearsAtCompany\n",
    "plt.hist(df.YearsAtCompany, bins=30)\n",
    "plt.title('Years at company')\n",
    "plt.xlabel('Years')\n",
    "plt.ylabel('Count')\n",
    "plt.show()"
   ]
  },
  {
   "cell_type": "code",
   "execution_count": 119,
   "metadata": {},
   "outputs": [
    {
     "name": "stdout",
     "output_type": "stream",
     "text": [
      "Mean: 7.1001945525291825\n",
      "Median: 5.0\n",
      "Skewed\n"
     ]
    }
   ],
   "source": [
    "# Is YearsAtCompany skewed?\n",
    "mean = df.YearsAtCompany.mean()\n",
    "median = df.YearsAtCompany.median()\n",
    "\n",
    "print('Mean: {}'.format(mean))\n",
    "print('Median: {}'.format(median))    \n",
    "\n",
    "if abs(mean - median) / mean > 0.05:\n",
    "    print('Skewed')\n",
    "else:\n",
    "    print('Not skewed')"
   ]
  },
  {
   "cell_type": "markdown",
   "metadata": {
    "colab_type": "text",
    "id": "oBcsFqz-Moja"
   },
   "source": [
    "### Visualize the ```df``` by drawing the following boxplot:\n",
    "\n",
    "* Draw a boxplot of ```MonthlyIncome``` for each ```Department``` and report whether there is/are outlier(s). \n"
   ]
  },
  {
   "cell_type": "code",
   "execution_count": 165,
   "metadata": {
    "colab": {},
    "colab_type": "code",
    "id": "S6zsSE65NED9"
   },
   "outputs": [
    {
     "data": {
      "image/png": "[encoded data removed]",
      "text/plain": [
       "<Figure size 432x288 with 1 Axes>"
      ]
     },
     "metadata": {
      "needs_background": "light"
     },
     "output_type": "display_data"
    },
    {
     "name": "stdout",
     "output_type": "stream",
     "text": [
      "139 outliers in Sales\n",
      "326 outliers in Research & Development\n",
      "22 outliers in Human Resources\n"
     ]
    }
   ],
   "source": [
    "# Draw a boxplot of MonthlyIncome for each Department and report outliers \n",
    "sns.boxplot(x=df.MonthlyIncome, y=df.Department)\n",
    "plt.show()\n",
    "\n",
    "# How many outliers?\n",
    "for dept in df.Department.unique():\n",
    "    q1 = df.MonthlyIncome.loc[df.Department == dept].quantile(q=0.25)\n",
    "    q2 = df.MonthlyIncome.loc[df.Department == dept].quantile(q=0.75)\n",
    "    iqr = q2 - q1\n",
    "    \n",
    "    n_out = (df.MonthlyIncome.loc[df.Department == dept] > iqr * 1.5).sum() + (df.MonthlyIncome.loc[df.Department == dept] < iqr * 0.5).sum()\n",
    "    \n",
    "    print('{} outliers in {}'.format(n_out, dept))"
   ]
  },
  {
   "cell_type": "markdown",
   "metadata": {
    "colab_type": "text",
    "id": "NRPgJjp-NX07"
   },
   "source": [
    "### Visualize the ```df``` by drawing the following piechart:\n",
    "\n",
    "* Create a pie chart of the values in ```JobRole``` with suitable label and report which role has highest number of persons. "
   ]
  },
  {
   "cell_type": "code",
   "execution_count": 0,
   "metadata": {
    "colab": {},
    "colab_type": "code",
    "id": "5pr2HVVGNlaV"
   },
   "outputs": [],
   "source": [
    "# Create a piechart of JobRole \n",
    "# You will need to find the counts of unique values in JobRole. \n",
    "\n",
    "\n"
   ]
  }
 ],
 "metadata": {
  "colab": {
   "collapsed_sections": [],
   "name": "Assignment_2_DS.ipynb",
   "provenance": []
  },
  "kernelspec": {
   "display_name": "Python 3 (ipykernel)",
   "language": "python",
   "name": "python3"
  },
  "language_info": {
   "codemirror_mode": {
    "name": "ipython",
    "version": 3
   },
   "file_extension": ".py",
   "mimetype": "text/x-python",
   "name": "python",
   "nbconvert_exporter": "python",
   "pygments_lexer": "ipython3",
   "version": "3.8.13"
  }
 },
 "nbformat": 4,
 "nbformat_minor": 1
}
